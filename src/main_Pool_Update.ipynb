{
 "cells": [
  {
   "cell_type": "code",
   "execution_count": 1,
   "metadata": {},
   "outputs": [],
   "source": [
    "import pandas as pd\n",
    "import xml.etree.ElementTree as ET\n",
    "import os\n",
    "from datetime import datetime\n",
    "\n",
    "from helper_functions import *"
   ]
  },
  {
   "cell_type": "code",
   "execution_count": 2,
   "metadata": {},
   "outputs": [
    {
     "data": {
      "text/html": [
       "<div>\n",
       "<style scoped>\n",
       "    .dataframe tbody tr th:only-of-type {\n",
       "        vertical-align: middle;\n",
       "    }\n",
       "\n",
       "    .dataframe tbody tr th {\n",
       "        vertical-align: top;\n",
       "    }\n",
       "\n",
       "    .dataframe thead th {\n",
       "        text-align: right;\n",
       "    }\n",
       "</style>\n",
       "<table border=\"1\" class=\"dataframe\">\n",
       "  <thead>\n",
       "    <tr style=\"text-align: right;\">\n",
       "      <th></th>\n",
       "      <th>Store#</th>\n",
       "      <th>Pool_ID</th>\n",
       "      <th>Pool#</th>\n",
       "      <th>AddressName</th>\n",
       "    </tr>\n",
       "  </thead>\n",
       "  <tbody>\n",
       "    <tr>\n",
       "      <th>0</th>\n",
       "      <td>0001</td>\n",
       "      <td>FRA</td>\n",
       "      <td>2693</td>\n",
       "      <td>Bed Bath and Beyond #2693\\nc/o Ryder Integrate...</td>\n",
       "    </tr>\n",
       "    <tr>\n",
       "      <th>1</th>\n",
       "      <td>0006</td>\n",
       "      <td>SPR</td>\n",
       "      <td>2690</td>\n",
       "      <td>Palmer Dedicated Logistics</td>\n",
       "    </tr>\n",
       "    <tr>\n",
       "      <th>2</th>\n",
       "      <td>0008</td>\n",
       "      <td>SCA</td>\n",
       "      <td>2613</td>\n",
       "      <td>Bed Bath and Beyond #2613 c/o Taylored Services</td>\n",
       "    </tr>\n",
       "    <tr>\n",
       "      <th>3</th>\n",
       "      <td>0009</td>\n",
       "      <td>FRA</td>\n",
       "      <td>2693</td>\n",
       "      <td>Bed Bath and Beyond #2693\\nc/o Ryder Integrate...</td>\n",
       "    </tr>\n",
       "    <tr>\n",
       "      <th>4</th>\n",
       "      <td>0012</td>\n",
       "      <td>SPR</td>\n",
       "      <td>2690</td>\n",
       "      <td>Palmer Dedicated Logistics</td>\n",
       "    </tr>\n",
       "  </tbody>\n",
       "</table>\n",
       "</div>"
      ],
      "text/plain": [
       "  Store# Pool_ID Pool#                                        AddressName\n",
       "0   0001     FRA  2693  Bed Bath and Beyond #2693\\nc/o Ryder Integrate...\n",
       "1   0006     SPR  2690                         Palmer Dedicated Logistics\n",
       "2   0008     SCA  2613    Bed Bath and Beyond #2613 c/o Taylored Services\n",
       "3   0009     FRA  2693  Bed Bath and Beyond #2693\\nc/o Ryder Integrate...\n",
       "4   0012     SPR  2690                         Palmer Dedicated Logistics"
      ]
     },
     "execution_count": 2,
     "metadata": {},
     "output_type": "execute_result"
    }
   ],
   "source": [
    "# Loading the lookup table\n",
    "df_lookup = pd.read_csv('../input/store_to_pool_lookup.csv', dtype=str)\n",
    "df_lookup.head()"
   ]
  },
  {
   "cell_type": "code",
   "execution_count": 3,
   "metadata": {},
   "outputs": [
    {
     "name": "stdout",
     "output_type": "stream",
     "text": [
      "Progress: [############################################################] 1/1\n",
      "\n"
     ]
    }
   ],
   "source": [
    "# Getting the current proejct directory\n",
    "project_dir = os.path.dirname(os.getcwd())\n",
    "project_dir = project_dir.replace('\\\\','/')\n",
    "selected_folder = 'sample'\n",
    "\n",
    "files = [file for file in os.listdir('../input/'+ selected_folder + '/')]\n",
    "inputFolderPath = project_dir + \"/input/\" + selected_folder + \"/\"\n",
    "log_df = pd.DataFrame(columns=['PO#/Ext. Doc#', 'BC SO#', 'SSH#', 'Prev. Store/Pool#', 'Prev. Store/Pool Name', 'New Pool#', 'New Pool Name'])\n",
    "\n",
    "for file in progressbar(files, \"Progress: \", 60):\n",
    "    inputFilePath = inputFolderPath + file\n",
    "    tree = ET.parse(inputFilePath)\n",
    "    root = tree.getroot()\n",
    "\n",
    "    # Finding the reference ID\n",
    "    shipment = root.find('{http://www.spscommerce.com/RSX}Shipment')\n",
    "    header = shipment.find('{http://www.spscommerce.com/RSX}Header')\n",
    "    address = header.find('{http://www.spscommerce.com/RSX}Address')\n",
    "    addrLocation = address.find('{http://www.spscommerce.com/RSX}AddressLocationNumber')\n",
    "    addrName = address.find('{http://www.spscommerce.com/RSX}AddressName')\n",
    "\n",
    "    # Logging document details\n",
    "    reference = header.find('{http://www.spscommerce.com/RSX}Reference')\n",
    "    reference_ID = reference.find('{http://www.spscommerce.com/RSX}ReferenceID')  # SSH Number\n",
    "    order_level = shipment.find('{http://www.spscommerce.com/RSX}OrderLevel')\n",
    "    order_header = order_level.find('{http://www.spscommerce.com/RSX}OrderHeader')\n",
    "    PONum = order_header.find('{http://www.spscommerce.com/RSX}PurchaseOrderNumber')\n",
    "    SONum = order_header.find('{http://www.spscommerce.com/RSX}InternalOrderNumber')\n",
    "\n",
    "    # Finding the Address Loaction  Number from the lookup table\n",
    "    matchFound = \"No\"\n",
    "    for i in df_lookup.index:\n",
    "        if str(df_lookup.loc[i,\"Store#\"]) == addrLocation.text:\n",
    "            matchFound = \"Yes\"\n",
    "            newAddrLocation = str(df_lookup.loc[i,\"Pool#\"])\n",
    "            newAddrName = str(df_lookup.loc[i,\"AddressName\"])\n",
    "    \n",
    "    if matchFound == \"No\":\n",
    "        print(addrLocation.text + \" : Match not found\")\n",
    "        print(addrLocation.text)\n",
    "\n",
    "    # logging the change\n",
    "    log_line = [PONum.text, SONum.text, reference_ID.text, addrLocation.text, addrName.text, newAddrLocation, newAddrName]\n",
    "    log_df.loc[len(log_df.index)] = log_line\n",
    "\n",
    "    # Updating the Address Location and Name\n",
    "    addrLocation.text = newAddrLocation\n",
    "    addrName.text = newAddrName\n",
    "    \n",
    "    # Exporting the modified file\n",
    "    outputFolderPath = project_dir + \"/output/\"\n",
    "    outputFilePath = outputFolderPath + file\n",
    "    tree.write(outputFilePath, 'utf-8', True, 'http://www.spscommerce.com/RSX')\n",
    "\n",
    "# Exporting the log file\n",
    "timestamp = datetime.today()\n",
    "timestamp = timestamp.strftime(\"%Y-%m-%d_%H-%M-%S\")\n",
    "log_filename = 'pool_update_log_' + timestamp + '.csv'\n",
    "outputFilePath = outputFolderPath + log_filename\n",
    "log_df.to_csv(outputFilePath, index=False)"
   ]
  }
 ],
 "metadata": {
  "kernelspec": {
   "display_name": "Python 3.10.4 ('venv': venv)",
   "language": "python",
   "name": "python3"
  },
  "language_info": {
   "codemirror_mode": {
    "name": "ipython",
    "version": 3
   },
   "file_extension": ".py",
   "mimetype": "text/x-python",
   "name": "python",
   "nbconvert_exporter": "python",
   "pygments_lexer": "ipython3",
   "version": "3.9.5"
  },
  "orig_nbformat": 4,
  "vscode": {
   "interpreter": {
    "hash": "66cd36824c17964be831b221dd35ece2f83194e3b6ebc89ade37622e03e5fd87"
   }
  }
 },
 "nbformat": 4,
 "nbformat_minor": 2
}
