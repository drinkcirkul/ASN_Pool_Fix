{
 "cells": [
  {
   "cell_type": "code",
   "execution_count": 19,
   "metadata": {},
   "outputs": [],
   "source": [
    "import pandas as pd\n",
    "import xml.etree.ElementTree as ET\n",
    "import os\n",
    "\n",
    "from helper_functions import *"
   ]
  },
  {
   "cell_type": "code",
   "execution_count": 20,
   "metadata": {},
   "outputs": [
    {
     "data": {
      "text/html": [
       "<div>\n",
       "<style scoped>\n",
       "    .dataframe tbody tr th:only-of-type {\n",
       "        vertical-align: middle;\n",
       "    }\n",
       "\n",
       "    .dataframe tbody tr th {\n",
       "        vertical-align: top;\n",
       "    }\n",
       "\n",
       "    .dataframe thead th {\n",
       "        text-align: right;\n",
       "    }\n",
       "</style>\n",
       "<table border=\"1\" class=\"dataframe\">\n",
       "  <thead>\n",
       "    <tr style=\"text-align: right;\">\n",
       "      <th></th>\n",
       "      <th>Store#</th>\n",
       "      <th>Pool_ID</th>\n",
       "      <th>Pool#</th>\n",
       "      <th>AddressName</th>\n",
       "    </tr>\n",
       "  </thead>\n",
       "  <tbody>\n",
       "    <tr>\n",
       "      <th>0</th>\n",
       "      <td>0001</td>\n",
       "      <td>FRA</td>\n",
       "      <td>2693</td>\n",
       "      <td>Bed Bath and Beyond #2693\\nc/o Ryder Integrate...</td>\n",
       "    </tr>\n",
       "    <tr>\n",
       "      <th>1</th>\n",
       "      <td>0006</td>\n",
       "      <td>SPR</td>\n",
       "      <td>2690</td>\n",
       "      <td>Palmer Dedicated Logistics</td>\n",
       "    </tr>\n",
       "    <tr>\n",
       "      <th>2</th>\n",
       "      <td>0008</td>\n",
       "      <td>SCA</td>\n",
       "      <td>2613</td>\n",
       "      <td>Bed Bath and Beyond #2613 c/o Taylored Services</td>\n",
       "    </tr>\n",
       "    <tr>\n",
       "      <th>3</th>\n",
       "      <td>0009</td>\n",
       "      <td>FRA</td>\n",
       "      <td>2693</td>\n",
       "      <td>Bed Bath and Beyond #2693\\nc/o Ryder Integrate...</td>\n",
       "    </tr>\n",
       "    <tr>\n",
       "      <th>4</th>\n",
       "      <td>0012</td>\n",
       "      <td>SPR</td>\n",
       "      <td>2690</td>\n",
       "      <td>Palmer Dedicated Logistics</td>\n",
       "    </tr>\n",
       "  </tbody>\n",
       "</table>\n",
       "</div>"
      ],
      "text/plain": [
       "  Store# Pool_ID Pool#                                        AddressName\n",
       "0   0001     FRA  2693  Bed Bath and Beyond #2693\\nc/o Ryder Integrate...\n",
       "1   0006     SPR  2690                         Palmer Dedicated Logistics\n",
       "2   0008     SCA  2613    Bed Bath and Beyond #2613 c/o Taylored Services\n",
       "3   0009     FRA  2693  Bed Bath and Beyond #2693\\nc/o Ryder Integrate...\n",
       "4   0012     SPR  2690                         Palmer Dedicated Logistics"
      ]
     },
     "execution_count": 20,
     "metadata": {},
     "output_type": "execute_result"
    }
   ],
   "source": [
    "# Loading the lookup table\n",
    "df_lookup = pd.read_csv('../input/store_to_pool_lookup.csv', dtype=str)\n",
    "df_lookup.head()"
   ]
  },
  {
   "cell_type": "code",
   "execution_count": 21,
   "metadata": {},
   "outputs": [
    {
     "name": "stdout",
     "output_type": "stream",
     "text": [
      "g:\\My Drive\\Cirkul_Repository\\Data_and_Analytics\\GitHub_Cirkul\\ASN_Pool_Fix\\src\n",
      "g:\\My Drive\\Cirkul_Repository\\Data_and_Analytics\\GitHub_Cirkul\\ASN_Pool_Fix\n"
     ]
    }
   ],
   "source": [
    "curr_dir = os.getcwd()\n",
    "print(curr_dir)\n",
    "root_dir = os.path.dirname(os.getcwd())\n",
    "print(root_dir)"
   ]
  },
  {
   "cell_type": "code",
   "execution_count": 22,
   "metadata": {},
   "outputs": [
    {
     "name": "stdout",
     "output_type": "stream",
     "text": [
      "g:/My Drive/Cirkul_Repository/Data_and_Analytics/GitHub_Cirkul/ASN_Pool_Fix\n",
      "g:/My Drive/Cirkul_Repository/Data_and_Analytics/GitHub_Cirkul/ASN_Pool_Fix/input/sample/\n",
      "Progress: [############################################################] 1/1\n",
      "\n"
     ]
    }
   ],
   "source": [
    "# Getting the current proejct directory\n",
    "project_dir = os.path.dirname(os.getcwd())\n",
    "project_dir = project_dir.replace('\\\\','/')\n",
    "selected_folder = 'sample'\n",
    "\n",
    "files = [file for file in os.listdir('../input/'+ selected_folder + '/')]\n",
    "# inputFolderPath = 'G:/My Drive/Cirkul_Repository/Data_and_Analytics/GitHub_Cirkul/ASN_Pool_Fix/input/' + selected_folder + '/'\n",
    "inputFolderPath = project_dir + \"/input/\" + selected_folder + \"/\"\n",
    "\n",
    "for file in progressbar(files, \"Progress: \", 60):\n",
    "    inputFilePath = inputFolderPath + file\n",
    "    tree = ET.parse(inputFilePath)\n",
    "    root = tree.getroot()\n",
    "\n",
    "    # Finding the reference ID\n",
    "    shipment = root.find('{http://www.spscommerce.com/RSX}Shipment')\n",
    "    header = shipment.find('{http://www.spscommerce.com/RSX}Header')\n",
    "    address = header.find('{http://www.spscommerce.com/RSX}Address')\n",
    "    addrLocation = address.find('{http://www.spscommerce.com/RSX}AddressLocationNumber')\n",
    "    addrName = address.find('{http://www.spscommerce.com/RSX}AddressName')\n",
    "\n",
    "    # Finding the Address Loaction  Number from the lookup table\n",
    "    matchFound = \"No\"\n",
    "    for i in df_lookup.index:\n",
    "        if str(df_lookup.loc[i,\"Store#\"]) == addrLocation.text:\n",
    "            matchFound = \"Yes\"\n",
    "            newAddrLocation = str(df_lookup.loc[i,\"Pool#\"])\n",
    "            newAddrName = str(df_lookup.loc[i,\"AddressName\"])\n",
    "    \n",
    "    if matchFound == \"No\":\n",
    "        print(addrLocation.text + \" : Match not found\")\n",
    "        print(addrLocation.text)\n",
    "\n",
    "    # Updating the Address Location and Name\n",
    "    addrLocation.text = newAddrLocation\n",
    "    addrName.text = newAddrName\n",
    "\n",
    "    # Exporting the modified file\n",
    "    outputFolderPath = project_dir + \"/output/\"\n",
    "    ouputFilePath = outputFolderPath + file\n",
    "    tree.write(ouputFilePath, 'utf-8', True, 'http://www.spscommerce.com/RSX')"
   ]
  }
 ],
 "metadata": {
  "kernelspec": {
   "display_name": "Python 3.10.4 ('venv': venv)",
   "language": "python",
   "name": "python3"
  },
  "language_info": {
   "codemirror_mode": {
    "name": "ipython",
    "version": 3
   },
   "file_extension": ".py",
   "mimetype": "text/x-python",
   "name": "python",
   "nbconvert_exporter": "python",
   "pygments_lexer": "ipython3",
   "version": "3.9.5"
  },
  "orig_nbformat": 4,
  "vscode": {
   "interpreter": {
    "hash": "66cd36824c17964be831b221dd35ece2f83194e3b6ebc89ade37622e03e5fd87"
   }
  }
 },
 "nbformat": 4,
 "nbformat_minor": 2
}
